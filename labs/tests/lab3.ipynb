{
 "cells": [
  {
   "cell_type": "code",
   "execution_count": 202,
   "metadata": {},
   "outputs": [
    {
     "name": "stdout",
     "output_type": "stream",
     "text": [
      "{'uci_id': 851, 'name': 'Steel Industry Energy Consumption', 'repository_url': 'https://archive.ics.uci.edu/dataset/851/steel+industry+energy+consumption', 'data_url': 'https://archive.ics.uci.edu/static/public/851/data.csv', 'abstract': 'The data is collected from a smart small-scale steel industry in South Korea.', 'area': 'Physics and Chemistry', 'tasks': ['Regression'], 'characteristics': ['Multivariate'], 'num_instances': 35040, 'num_features': 9, 'feature_types': ['Real', 'Categorical'], 'demographics': [], 'target_col': ['Load_Type'], 'index_col': None, 'has_missing_values': 'no', 'missing_values_symbol': None, 'year_of_dataset_creation': 2021, 'last_updated': 'Mon Aug 14 2023', 'dataset_doi': '10.24432/C52G8C', 'creators': ['Sathishkumar V E', 'Changsun Shin', 'Yongyun Cho'], 'intro_paper': {'title': 'Efficient energy consumption prediction model for a data analytic-enabled industry building in a smart city', 'authors': 'Sathishkumar V E, Changsun Shin, Yongyun Cho', 'published_in': 'Building Research & Information, Vol. 49. no. 1, pp. 127-143', 'year': 2021, 'url': 'https://www.semanticscholar.org/paper/a4e10d9c93ed4b2fd89ad34e15a37eb1dc251168', 'doi': None}, 'additional_info': {'summary': 'The information gathered is from the DAEWOO Steel Co. Ltd in Gwangyang, South Korea. It produces several types of coils, steel plates, and iron plates. The information on electricity consumption is held in a cloud-based system. The information on energy consumption of the industry is stored on the website of the Korea Electric Power Corporation (pccs.kepco.go.kr), and the perspectives on daily, monthly, and annual data are calculated and shown.', 'purpose': None, 'funded_by': None, 'instances_represent': None, 'recommended_data_splits': None, 'sensitive_data': None, 'preprocessing_description': None, 'variable_info': 'Data Variables Type Measurement\\nIndustry Energy Consumption Continuous kWh\\nLagging Current reactive power Continuous kVarh\\nLeading Current reactive power Continuous kVarh\\ntCO2(CO2) Continuous ppm\\nLagging Current power factor Continuous %\\nLeading Current Power factor Continuous %\\nNumber of Seconds from midnight Continuous S\\nWeek status Categorical (Weekend (0) or a Weekday(1))\\nDay of week Categorical Sunday, Monday â€¦. Saturday\\nLoad Type Categorical Light Load, Medium Load, Maximum Load', 'citation': None}}\n",
      "                                    name     role         type demographic  \\\n",
      "0                                   date    Other         Date        None   \n",
      "1                              Usage_kWh  Feature   Continuous        None   \n",
      "2   Lagging_Current_Reactive.Power_kVarh  Feature   Continuous        None   \n",
      "3   Leading_Current_Reactive_Power_kVarh  Feature   Continuous        None   \n",
      "4                              CO2(tCO2)  Feature   Continuous        None   \n",
      "5           Lagging_Current_Power_Factor  Feature   Continuous        None   \n",
      "6           Leading_Current_Power_Factor  Feature   Continuous        None   \n",
      "7                                    NSM  Feature      Integer        None   \n",
      "8                             WeekStatus  Feature  Categorical        None   \n",
      "9                            Day_of_week  Feature  Categorical        None   \n",
      "10                             Load_Type   Target  Categorical        None   \n",
      "\n",
      "                              description  units missing_values  \n",
      "0                                    None   None             no  \n",
      "1             Industry Energy Consumption    kWh             no  \n",
      "2                                    None  kVarh             no  \n",
      "3                                    None  kVarh             no  \n",
      "4                                    None    ppm             no  \n",
      "5                                    None      %             no  \n",
      "6                                    None      %             no  \n",
      "7                                    None      s             no  \n",
      "8             Weekend (0) or a Weekday(1)   None             no  \n",
      "9           Sunday, Monday, ..., Saturday   None             no  \n",
      "10  Light Load, Medium Load, Maximum Load   None             no  \n"
     ]
    }
   ],
   "source": [
    "from ucimlrepo import fetch_ucirepo \n",
    "  \n",
    "# fetch dataset \n",
    "steel_industry_energy_consumption = fetch_ucirepo(id=851) \n",
    "  \n",
    "# data (as pandas dataframes) \n",
    "X = steel_industry_energy_consumption.data.features \n",
    "y = steel_industry_energy_consumption.data.targets \n",
    "  \n",
    "# metadata \n",
    "print(steel_industry_energy_consumption.metadata) \n",
    "  \n",
    "# variable information \n",
    "print(steel_industry_energy_consumption.variables) \n"
   ]
  },
  {
   "cell_type": "code",
   "execution_count": 203,
   "metadata": {},
   "outputs": [],
   "source": [
    "import numpy as np\n",
    "categorical_columns = X.select_dtypes(include='object').columns\n",
    "numerical_columns = X.select_dtypes(include=np.number).columns"
   ]
  },
  {
   "cell_type": "code",
   "execution_count": 204,
   "metadata": {},
   "outputs": [],
   "source": [
    "from sklearn.model_selection import train_test_split\n",
    "from sklearn.preprocessing import StandardScaler, LabelEncoder\n",
    "from sklearn.compose import ColumnTransformer\n",
    "from category_encoders import TargetEncoder\n",
    "\n",
    "y = LabelEncoder().fit_transform(np.ravel(y))\n",
    "\n",
    "columnTransformer = ColumnTransformer(\n",
    "    transformers=[\n",
    "        ('categorical', TargetEncoder(), categorical_columns),\n",
    "        ('num', StandardScaler(), numerical_columns)]\n",
    ")\n",
    "X = columnTransformer.fit_transform(X, y)"
   ]
  },
  {
   "cell_type": "code",
   "execution_count": 205,
   "metadata": {},
   "outputs": [],
   "source": [
    "X_train, X_test, y_train, y_test = train_test_split(X, y, test_size=0.8, shuffle=False)"
   ]
  },
  {
   "cell_type": "code",
   "execution_count": 1,
   "metadata": {},
   "outputs": [],
   "source": [
    "import torch\n",
    "from torch import nn\n",
    "import torchvision.transforms as T\n",
    "from torch.utils.data import Dataset, DataLoader"
   ]
  },
  {
   "cell_type": "code",
   "execution_count": 354,
   "metadata": {},
   "outputs": [],
   "source": [
    "class MyDataset(Dataset):\n",
    "\n",
    "    def __init__(self, X, y, q = 1):\n",
    "        self.X = torch.tensor(X, dtype = torch.float)\n",
    "        self.y = torch.tensor(y).long()\n",
    "        self.q = q\n",
    "    def __len__(self):\n",
    "        return self.X.shape[0] - (self.q-1)\n",
    "    def __getitem__(self, index):\n",
    "        return (self.X[index:index+self.q], self.y[index+self.q-1])"
   ]
  },
  {
   "cell_type": "code",
   "execution_count": 355,
   "metadata": {},
   "outputs": [],
   "source": [
    "train_loader = DataLoader(MyDataset(X_train, y_train, 5), batch_size = 64, shuffle = False)\n",
    "test_loader = DataLoader(MyDataset(X_test, y_test, 5), batch_size = 64, shuffle = False)"
   ]
  },
  {
   "cell_type": "code",
   "execution_count": 356,
   "metadata": {},
   "outputs": [],
   "source": [
    "class RNN_Classifier(nn.Module):\n",
    "    def __init__(self, in_features, num_classes, hidden_size):\n",
    "        super().__init__()\n",
    "        self.encoder = nn.RNN(input_size = in_features, hidden_size = hidden_size, batch_first = True)\n",
    "        self.head = nn.Linear(hidden_size, num_classes)\n",
    "    def forward(self, x):\n",
    "        _, out = self.encoder(x)\n",
    "        return self.head(out[-1])"
   ]
  },
  {
   "cell_type": "code",
   "execution_count": 357,
   "metadata": {},
   "outputs": [],
   "source": [
    "NUM_CLASSES = 3\n",
    "HIDDEN_SIZE = 32\n",
    "model = RNN_Classifier(X.shape[1], NUM_CLASSES, HIDDEN_SIZE)\n",
    "optimizer = torch.optim.SGD(model.parameters(), lr = 0.01, momentum = 0.9)\n",
    "criterion = nn.CrossEntropyLoss()"
   ]
  },
  {
   "cell_type": "code",
   "execution_count": 358,
   "metadata": {},
   "outputs": [
    {
     "data": {
      "application/vnd.jupyter.widget-view+json": {
       "model_id": "e5cb276028984a858ea11c176275b16a",
       "version_major": 2,
       "version_minor": 0
      },
      "text/plain": [
       "  0%|          | 0/100 [00:00<?, ?it/s]"
      ]
     },
     "metadata": {},
     "output_type": "display_data"
    }
   ],
   "source": [
    "from tqdm.notebook import tqdm\n",
    "num_epochs = 100\n",
    "pbar = tqdm(range(1, num_epochs + 1))\n",
    "\n",
    "for epoch in pbar:\n",
    "    train_loss, train_accuracy = 0.0, 0.0\n",
    "    model.train()\n",
    "    for X_batch, y_batch in train_loader:\n",
    "        optimizer.zero_grad()\n",
    "        predictions = model(X_batch)\n",
    "        loss = criterion(predictions, y_batch)\n",
    "        loss.backward()\n",
    "        optimizer.step()\n",
    "        train_loss += loss.item() * X_batch.shape[0]\n",
    "        train_accuracy += np.sum(predictions.detach().numpy().argmax(axis=1) == y_batch.detach().numpy())\n",
    "    test_loss, test_accuracy = 0.0, 0.0\n",
    "    model.eval()\n",
    "    for X_batch, y_batch in test_loader:\n",
    "        predictions = model(X_batch)\n",
    "        loss = criterion(predictions, y_batch)\n",
    "        test_loss += loss.item() * X_batch.shape[0]\n",
    "        test_accuracy += np.sum(predictions.detach().numpy().argmax(axis=1) == y_batch.detach().numpy())\n",
    "    train_loss /= len(train_loader.dataset)\n",
    "    test_loss /= len(test_loader.dataset)\n",
    "    train_accuracy /= len(train_loader.dataset)\n",
    "    test_accuracy /= len(test_loader.dataset)\n",
    "    pbar.set_postfix({'train loss': train_loss, 'test loss': test_loss, 'train accuracy' : train_accuracy, 'test accuracy' : test_accuracy})\n"
   ]
  },
  {
   "cell_type": "markdown",
   "metadata": {},
   "source": [
    "### Моя реализация RNN"
   ]
  },
  {
   "cell_type": "code",
   "execution_count": 1,
   "metadata": {},
   "outputs": [],
   "source": [
    "%load_ext autoreload\n",
    "%autoreload 2"
   ]
  },
  {
   "cell_type": "code",
   "execution_count": 2,
   "metadata": {},
   "outputs": [],
   "source": [
    "import tests"
   ]
  },
  {
   "cell_type": "code",
   "execution_count": 3,
   "metadata": {},
   "outputs": [
    {
     "name": "stdout",
     "output_type": "stream",
     "text": [
      "test_RNNCell ... OK\n"
     ]
    }
   ],
   "source": [
    "tests.test_RNNcell()"
   ]
  },
  {
   "cell_type": "code",
   "execution_count": 18,
   "metadata": {},
   "outputs": [
    {
     "name": "stdout",
     "output_type": "stream",
     "text": [
      "test_RNN ... OK\n"
     ]
    }
   ],
   "source": [
    "tests.test_RNN()"
   ]
  },
  {
   "cell_type": "markdown",
   "metadata": {},
   "source": [
    "### Моя реализация LSTM"
   ]
  },
  {
   "cell_type": "code",
   "execution_count": 16,
   "metadata": {},
   "outputs": [
    {
     "name": "stdout",
     "output_type": "stream",
     "text": [
      "test_LSTMCell ... OK\n"
     ]
    }
   ],
   "source": [
    "tests.test_LSTMcell()"
   ]
  },
  {
   "cell_type": "code",
   "execution_count": 37,
   "metadata": {},
   "outputs": [
    {
     "name": "stdout",
     "output_type": "stream",
     "text": [
      "test_LSTM ... OK\n"
     ]
    }
   ],
   "source": [
    "tests.test_LSTM()"
   ]
  },
  {
   "cell_type": "markdown",
   "metadata": {},
   "source": [
    "### Моя реализация GRU"
   ]
  },
  {
   "cell_type": "code",
   "execution_count": 82,
   "metadata": {},
   "outputs": [
    {
     "name": "stdout",
     "output_type": "stream",
     "text": [
      "test_GRUCell ... OK\n"
     ]
    }
   ],
   "source": [
    "tests.test_GRUCell()"
   ]
  },
  {
   "cell_type": "code",
   "execution_count": null,
   "metadata": {},
   "outputs": [],
   "source": []
  }
 ],
 "metadata": {
  "kernelspec": {
   "display_name": "Python 3",
   "language": "python",
   "name": "python3"
  },
  "language_info": {
   "codemirror_mode": {
    "name": "ipython",
    "version": 3
   },
   "file_extension": ".py",
   "mimetype": "text/x-python",
   "name": "python",
   "nbconvert_exporter": "python",
   "pygments_lexer": "ipython3",
   "version": "3.11.9"
  }
 },
 "nbformat": 4,
 "nbformat_minor": 2
}
